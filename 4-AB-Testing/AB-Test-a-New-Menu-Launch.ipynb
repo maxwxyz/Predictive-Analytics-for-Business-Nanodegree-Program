{
 "cells": [
  {
   "source": [
    "# Project 4: A/B Test a New Menu Launch\n",
    "\n",
    "## The Business Problem\n",
    "\n",
    "Round Roasters is an upscale coffee chain with locations in the western United States of America. The past few years have resulted in stagnant growth at the coffee chain, and a new management team was put in place to reignite growth at their stores.\n",
    "\n",
    "The first major growth initiative is to introduce gourmet sandwiches to the menu, along with limited wine offerings. The new management team believes that a television advertising campaign is crucial to drive people into the stores with these new offerings.\n",
    "\n",
    "However, the television campaign will require a significant boost in the company’s marketing budget, with an unknown return on investment (ROI). Additionally, there is concern that current customers will not buy into the new menu offerings.\n",
    "\n",
    "To minimize risk, the management team decides to test the changes in two cities with new television advertising. Denver and Chicago cities were chosen to participate in this test because the stores in these two cities (or markets) perform similarly to all stores across the entire chain of stores; performance in these two markets would be a good proxy to predict how well the updated menu performs.\n",
    "\n",
    "The test ran for a period of 12 weeks (2016-April-29 to 2016-July-21) where five stores in each of the test markets offered the updated menu along with television advertising.\n",
    "\n",
    "The comparative period is the test period, but for last year (2015-April-29 to 2015-July-21).\n",
    "\n",
    "You’ve been asked to analyze the results of the experiment to determine whether the menu changes should be applied to all stores. The predicted impact to profitability should be enough to justify the increased marketing budget: at least 18% increase in profit growth compared to the comparative period while compared to the control stores; otherwise known as incremental lift. In the data, profit is represented in the gross_margin variable.\n",
    "\n",
    "You have been able to gather three data files to use for your analysis:\n",
    "\n",
    "- Transaction data for all stores from 2015-January-21 to 2016-August-18\n",
    "- A listing of all Round Roasters stores\n",
    "- A listing of the 10 stores (5 in each market) that were used as test markets\n"
   ],
   "cell_type": "markdown",
   "metadata": {}
  },
  {
   "cell_type": "markdown",
   "metadata": {},
   "source": [
    "## Plan Your Analysis\n",
    "\n",
    "#### 1. What is the performance metric you’ll use to evaluate the results of your test?\n",
    "\n",
    "The performance metric is the **lift of profit growth** (gross_margin), which must be at least 18 % to justify the increased marketing budget."
   ]
  },
  {
   "cell_type": "markdown",
   "metadata": {},
   "source": [
    "#### 2. What is the test period?\n",
    "\n",
    "The test period is **12 weeks**, from 2016/04/29 to 2016/07/21. In this period, five stores in the test markets offered the updated menu and TV ads were running."
   ]
  },
  {
   "source": [
    "#### 3. At what level (day, week, month, etc.) should the data be aggregated?\n",
    "\n",
    "The data should be aggregated on a **weekly** basis."
   ],
   "cell_type": "markdown",
   "metadata": {}
  },
  {
   "cell_type": "markdown",
   "metadata": {},
   "source": [
    "## Clean Up Your Data\n"
   ]
  },
  {
   "cell_type": "markdown",
   "metadata": {},
   "source": [
    "<img src=\"img/1.png\" width=\"500\">"
   ]
  },
  {
   "cell_type": "markdown",
   "metadata": {},
   "source": [
    "<div align=\"center\">\n",
    "  Figure 1 - Alteryx Workflow for Data Cleaning and Aggregation\n",
    "</div>"
   ]
  },
  {
   "source": [
    "## Match Treatmend and Control Units\n",
    "\n",
    "*Apart from trend and seasonality...*\n",
    "#### 1. What control variables should be considered? Note: Only consider variables in the *RoundRoastersStore* file.\n",
    "\n",
    "**AvgMonthlySales** and **Sq_Ft** could be considered.\n",
    "\n",
    "#### 2. What is the correlation between your each potential control variable and your performance metric?\n",
    "\n",
    "The following table shows the correlation analysis. **AvgMonthSales** has a high correlation and will be chosen to be a control variable. **Sq_Ft.** on the other hand has a very low correlation and will not be used to match treatment and control stores.\n",
    "\n",
    "#### 3. What control variables will you use to match treatment and control stores?\n",
    "\n",
    "Additionally, to the **trend** and **seasonality** variables, the **AvgMonthlySales** will be used to match the treatment store to 2 control stores (high correlation).\n",
    "\n",
    "#### 4. Please fill out the table below with your treatment and control stores pairs:"
   ],
   "cell_type": "markdown",
   "metadata": {}
  },
  {
   "cell_type": "markdown",
   "metadata": {},
   "source": [
    "\n",
    "| **Treatment Store** | **Control Store 1** | **Control Store 2**  |\n",
    "|---|---|---|\n",
    "| 1664 | 7162 | 8112|\n",
    "| 1675 | 1580 | 1807 |\n",
    "| 1696 | 1964 | 1863 |\n",
    "| 1700 | 2014 | 1630 |\n",
    "| 1712 | 8162 | 7434 |\n",
    "| 2288 | 9081 | 2564 |\n",
    "| 2293 | 12219 | 9524 |\n",
    "| 2301 | 3102 | 9238 |\n",
    "| 2322 | 2409 | 3235 |\n",
    "| 2341 | 12536 | 2382 |\n",
    "\n"
   ]
  },
  {
   "source": [
    "<img src=\"img/2.png\" width=\"500\">"
   ],
   "cell_type": "markdown",
   "metadata": {}
  },
  {
   "source": [
    "<div align=\"center\">\n",
    "  Figure 2 - Alteryx Workflow for Matching Treatment and Control Units\n",
    "</div>"
   ],
   "cell_type": "markdown",
   "metadata": {}
  },
  {
   "cell_type": "markdown",
   "metadata": {},
   "source": [
    "## Analysis and Writeup\n",
    "\n",
    "#### 1. What is your recommendation - Should the company roll out the updated menu to all stores?\n",
    "\n",
    "It is **recomended** to roll out the updated menu, as the needed 18 % lift is exceeded by the A/B test with an *overall lift of 40.7 %*.\n",
    "Additionally, the *significance* of the A/B model is very high, which leads to the assumption, that the lift is generated through the new menu implementation.\n",
    "\n",
    "#### 2. What is the lift from the new menu for West and Central regions (include statistical significance)?\n",
    "\n",
    "**West:**\n",
    "Lift is 37.9 % with a 9.5 % significance. "
   ]
  },
  {
   "source": [
    "<img src=\"img/3.png\" width=\"500\">"
   ],
   "cell_type": "markdown",
   "metadata": {}
  },
  {
   "source": [
    "<div align=\"center\">\n",
    "  Figure 3 - Report for the West Region\n",
    "</div>"
   ],
   "cell_type": "markdown",
   "metadata": {}
  },
  {
   "source": [
    "\n",
    "**Central:**\n",
    "Lift is 43.5 % with a 99.6 % significance. Here is the report:\n"
   ],
   "cell_type": "markdown",
   "metadata": {}
  },
  {
   "source": [
    "<img src=\"img/4.png\" width=\"500\">"
   ],
   "cell_type": "markdown",
   "metadata": {}
  },
  {
   "source": [
    "<div align=\"center\">\n",
    "  Figure 4 - Report for the Central Region\n",
    "</div>\n",
    "\n",
    "#### 3. What is the lift from the new menu overall?\n",
    "\n",
    "The overall lift is 40.7 % with a 100 % significance."
   ],
   "cell_type": "markdown",
   "metadata": {}
  },
  {
   "source": [
    "<img src=\"img/5.png\" width=\"500\">"
   ],
   "cell_type": "markdown",
   "metadata": {}
  },
  {
   "source": [
    "<div align=\"center\">\n",
    "  Figure 5 - Overall Report\n",
    "</div>"
   ],
   "cell_type": "markdown",
   "metadata": {}
  },
  {
   "source": [
    "<img src=\"img/6.png\" width=\"500\">"
   ],
   "cell_type": "markdown",
   "metadata": {}
  },
  {
   "source": [
    "<div align=\"center\">\n",
    "  Figure 6 - Alteryx Workflow\n",
    "</div>"
   ],
   "cell_type": "markdown",
   "metadata": {}
  }
 ],
 "metadata": {
  "kernelspec": {
   "display_name": "Python 3",
   "language": "python",
   "name": "python3"
  },
  "language_info": {
   "codemirror_mode": {
    "name": "ipython",
    "version": 3
   },
   "file_extension": ".py",
   "mimetype": "text/x-python",
   "name": "python",
   "nbconvert_exporter": "python",
   "pygments_lexer": "ipython3",
   "version": "3.7.3"
  }
 },
 "nbformat": 4,
 "nbformat_minor": 2
}