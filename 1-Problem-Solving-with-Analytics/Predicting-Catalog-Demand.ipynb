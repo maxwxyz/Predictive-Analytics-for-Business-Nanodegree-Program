{
 "cells": [
  {
   "cell_type": "markdown",
   "metadata": {},
   "source": [
    "# Project 1: Predicting Catalog Demand\n",
    "\n",
    "## Table of Contents\n",
    "[Project Description](#problem)<br>\n",
    "1. [Details](#details)<br>\n",
    "\n",
    "[Business and Data Understanding](#business)<br>\n",
    "1. [What decisions needs to be made?](#key_decisions)<br>\n",
    "2. [What data is needed to inform those decisions?](#data_needed)<br>\n",
    "\n",
    "[Analysis, Modeling, and Validation](#analysis)<br>\n",
    "1. [How and why did you select the predictor variables in your model?](#predictor)<br>\n",
    "2. [Explain why you believe your linear model is a good model.](#explain)<br>\n",
    "3. [What is the best linear regression equation based on the available data?](#linear_regression)<br>\n",
    "\n",
    "[Presentation/Visualization](#presentation)<br>\n",
    "1. [What is your recommendation? Should the company send the catalog to these 250 customers?](#recommendation)<br>\n",
    "2. [How did you come up with your recommendation? (Please explain your process so\n",
    "reviewers can give you feedback on your process)](#recommendation_2)<br>\n",
    "3. [What is the expected profit from the new catalog (assuming the catalog is sent to these 250 customers)?](#profit)<br>"
   ]
  },
  {
   "source": [
    "<a id='problem'></a>\n",
    "## The Business Problem\n",
    "\n",
    "You recently started working for a company that manufactures and sells high-end home goods. Last year the company sent out its first print catalog, and is preparing to send out this year’s catalog in the coming months. The company has 250 new customers from their mailing list that they want to send the catalog to.\n",
    "\n",
    "Your manager has been asked to determine how much profit the company can expect from sending a catalog to these customers. You, the business analyst, are assigned to help your manager run the numbers. While fairly knowledgeable about data analysis, your manager is not very familiar with predictive models.\n",
    "\n",
    "You’ve been asked to predict the expected profit from these 250 new customers. Management does not want to send the catalog out to these new customers unless the expected profit contribution exceeds $10,000.\n",
    "\n",
    "<a id='details'></a>\n",
    "### Details\n",
    "\n",
    "- The costs of printing and distributing is $6.50 per catalog.\n",
    "- The average gross margin (price - cost) on all products sold through the catalog is 50%.\n",
    "- Make sure to multiply your revenue by the gross margin first before you subtract out the $6.50 cost when calculating your profit.\n",
    "\n",
    "Write a short report with your recommendations outlining your reasons why the company should go with your recommendations to your manager.\n"
   ],
   "cell_type": "markdown",
   "metadata": {}
  },
  {
   "cell_type": "markdown",
   "metadata": {},
   "source": [
    "<a id='business'></a>\n",
    "## Business and Data Understanding\n",
    "\n",
    "<a id='key_decisions'></a>\n",
    "#### 1. What decisions needs to be made?\n",
    "\n",
    "The decision whether to send out the catalogue and get the expected profit contribution from those\n",
    "250 new customers. The expected profit should be at least $10,000.00 from the new customers."
   ]
  },
  {
   "cell_type": "markdown",
   "metadata": {},
   "source": [
    "<a id='data_needed'></a>\n",
    "\n",
    "#### 2. What data is needed to inform those decisions?\n",
    "\n",
    "The data model is trained by existing customer data. Useful data\n",
    "variables are the profit, user specific information to categorize the users (e.g. customer segment),\n",
    "historical data (number of avg. products) and the probability of a purchase. With this data, a\n",
    "prediction for new customers can be made to answer the business problem."
   ]
  },
  {
   "cell_type": "markdown",
   "metadata": {},
   "source": [
    "<a id='analysis'></a>\n",
    "## Analysis, Modeling, and Validation\n",
    "\n",
    "<a id='predictor'></a>\n",
    "#### 1. How and why did you select the predictor variables in your model? You must explain how your continuous predictor variables you’ve chosen have a linear relationship with the target variable.\n",
    "\n",
    "First, the data was explored to clean the data and find relationships. Therefore, scatterplots with two variables provide sufficient insights. The following graph shows that there is no linear relation between the average sales and the ZIP code, so we do not need the incorporate this variable into the model. The same is true for the years as customer. There seems a linear relationship between the avg.number of products and the price. The customer segment was also added to the model as it is present in both, the new customer and past customer data. An Alteryx analysis showed, that for only the chosen variables, the p-value was smaller than 0.05. This indicates that there is a linear relationship between these predictor variables and the target variable."
   ]
  },
  {
   "cell_type": "markdown",
   "metadata": {},
   "source": [
    "<img src=\"img/sc1.png\" width=\"300\">"
   ]
  },
  {
   "cell_type": "markdown",
   "metadata": {},
   "source": [
    "<div align=\"center\">\n",
    "  Figure 1 - Scatterplot of Years as Customer vs. Avg Sale Amount \n",
    "</div>"
   ]
  },
  {
   "cell_type": "markdown",
   "metadata": {},
   "source": [
    "<img src=\"img/sc2.png\" width=\"300\">"
   ]
  },
  {
   "cell_type": "markdown",
   "metadata": {},
   "source": [
    "<div align=\"center\">\n",
    "  Figure 2 - Scatterplot of ZIP vs. Avg Sale Amount\n",
    "</div>"
   ]
  },
  {
   "cell_type": "markdown",
   "metadata": {},
   "source": [
    "<img src=\"img/sc3.png\" width=\"300\">"
   ]
  },
  {
   "cell_type": "markdown",
   "metadata": {},
   "source": [
    "<div align=\"center\">\n",
    "  Figure 3 - Scatterplot of Avg No Products Purchased vs. Avg Sale Amount\n",
    "</div>"
   ]
  },
  {
   "cell_type": "markdown",
   "metadata": {},
   "source": [
    "<a id='explain'></a>\n",
    "#### 2. Explain why you believe your linear model is a good model. You must justify your reasoning using the statistical results that your regression model created. For each variable you selected, please justify how each variable is a good fit for your model by using the p-values and R-squared values that your model produced.\n",
    "\n",
    "Based on the findings, the model is based on the customer segment and the average number of products. \n",
    "The adjusted R-Squared is 0.8366 which indicates that this is a strong model. The p-value < 2.2e-16 additionally suggests that there is a good relationship in the model."
   ]
  },
  {
   "cell_type": "markdown",
   "metadata": {},
   "source": [
    "<img src=\"img/lr_report.png\" width=\"600\">"
   ]
  },
  {
   "source": [
    "<div align=\"center\">\n",
    "  Figure 4 - Linear Regression Report\n",
    "</div>"
   ],
   "cell_type": "markdown",
   "metadata": {}
  },
  {
   "source": [
    "It is necessary to add a formula to the model to calculate the predicted profit by multiplying it with the yes-score probability and the avg. gross margin (0.5). After that, the costs of each catalogue must be subtracted.\n",
    "\n",
    "When summed up, the overall predicted profits results in $21,987.43."
   ],
   "cell_type": "markdown",
   "metadata": {}
  },
  {
   "source": [
    "<img src=\"img/workflow.png\" width=\"600\">"
   ],
   "cell_type": "markdown",
   "metadata": {}
  },
  {
   "source": [
    "<div align=\"center\">\n",
    "Figure 5 - Alteryx Workflow\n",
    "</div>"
   ],
   "cell_type": "markdown",
   "metadata": {}
  },
  {
   "cell_type": "markdown",
   "metadata": {},
   "source": [
    "<a id='linear_regression'></a>\n",
    "#### 3. What is the best linear regression equation based on the available data? Each coefficient should have no more than 2 digits after the decimal (ex: 1.28)\n",
    "\n",
    "CS...Customer segment\n",
    "$$Avg\\_Sale\\_Amount = 303.46 - 149.36 * (If CS\\_Loyalty\\_Club\\_Only)$$\n",
    "$$ + 281.84 * (If CS LoyaltyClub\\_and\\_Credit\\_Card)$$\n",
    "$$ - 245.42 * (If CS StoreMailling\\_List)$$\n",
    "$$ + 0 * (If CS CreditCard\\_Only)$$\n",
    "$$ + 66.98 * Avg\\_Num\\_Products\\_Purchased$$"
   ]
  },
  {
   "cell_type": "markdown",
   "metadata": {},
   "source": [
    "<a id='presentation'></a>\n",
    "## Presentation/Visualization\n",
    "\n",
    "<a id='recommendation'></a>\n",
    "#### 1. What is your recommendation? Should the company send the catalog to these 250 customers?\n",
    "\n",
    "It is recommended to send out these 250 catalogues, because the expected profit contribution of $21,987.44 exceeds the set limit of $10,000 of the management."
   ]
  },
  {
   "cell_type": "markdown",
   "metadata": {},
   "source": [
    "<a id='recommendation_2'></a>\n",
    "#### 2. How did you come up with your recommendation? (Please explain your process so reviewers can give you feedback on your process)\n",
    "\n",
    "After finding a good model the predicted pfrofit was calculated for the new customers. As the target profit of the management ($10,000) was exceeded (more than doubled) by the prediction, the decision is clear."
   ]
  },
  {
   "cell_type": "markdown",
   "metadata": {},
   "source": [
    "#### 3. What is the expected profit from the new catalog (assuming the catalog is sent to these 250 customers)?\n",
    "\n",
    "The expected profit contribution is $21,987.44."
   ]
  }
 ],
 "metadata": {
  "kernelspec": {
   "display_name": "Python 3",
   "language": "python",
   "name": "python3"
  },
  "language_info": {
   "codemirror_mode": {
    "name": "ipython",
    "version": 3
   },
   "file_extension": ".py",
   "mimetype": "text/x-python",
   "name": "python",
   "nbconvert_exporter": "python",
   "pygments_lexer": "ipython3",
   "version": "3.7.3"
  }
 },
 "nbformat": 4,
 "nbformat_minor": 2
}