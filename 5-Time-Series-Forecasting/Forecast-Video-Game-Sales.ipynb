{
 "cells": [
  {
   "cell_type": "markdown",
   "metadata": {},
   "source": [
    "# Forecasting Video Game Sales\n",
    "\n",
    "## The Business Problem\n",
    "\n",
    "You recently started working for a company as a supply chain analyst that creates and sells video games. Many businesses have to be on point when it comes to ordering supplies to meet the demand of its customers. An overestimation of demand leads to bloated inventory and high costs. Underestimating demand means many valued customers won't get the products they want. Your manager has tasked you to forecast monthly sales data in order to synchronize supply with demand, aid in decision making that will help build a competitive infrastructure and measure company performance. You, the supply chain analyst, are assigned to help your manager run the numbers through a time series forecasting model.\n",
    "\n",
    "You’ve been asked to provide a forecast for the next 4 months of sales and report your findings."
   ]
  },
  {
   "source": [
    "## Plan Your Analysis\n",
    "\n",
    "#### 1. Does the dataset meet the criteria of a time series dataset? Make sure to explore all four key characteristics of a time series data.\n",
    "\n",
    "Initial findings of the time series showed a complete series exhibiting the 4 key characteristics of time series data. The series is over a continuous time interval, of sequential measurements\n",
    "across that interval, using equal spacing between every two consecutive measurements and each time unit within the time interval has at most one data point.\n",
    "The data collected is composed of monthly sales data dating back to 2008 and going until September 2013.\n",
    "\n",
    "#### 2. Which records should be used as the holdout sample?\n",
    "\n",
    "In preparation for construction of predictive models, the last 4 records (2013-06 to 2013-09) have been filtered out as a holdout sample. This holdout sample is used to check the accuracy of the model to forecast predicted values against the actual values."
   ],
   "cell_type": "markdown",
   "metadata": {}
  },
  {
   "cell_type": "markdown",
   "metadata": {},
   "source": [
    "## Determine Trend, Seasonal, and Error components\n",
    "\n",
    "#### 1. What are the trend, seasonality, and error of the time series? Show how you were able to determine the components using time series plots. Include the graphs.\n",
    "\n",
    "The initial findings of the time series plot shows an upward rising trend with a regularly occurring spike in sales each year reported at the end of the year. This pattern shows that there is seasonality in the time series. There are no patterns within the series suggesting cyclicity."
   ]
  },
  {
   "source": [
    "<img src=\"img/ts1.png\" width=\"300\"/>"
   ],
   "cell_type": "markdown",
   "metadata": {}
  },
  {
   "source": [
    "<div align=\"center\">\n",
    "    Figure 1 - Time Series Plot\n",
    "</div>"
   ],
   "cell_type": "markdown",
   "metadata": {}
  },
  {
   "source": [
    "The decomposition plot shows the time series broken down into its three components: trend, seasonal and the error. Each of these components makes up the time series and helps confirming what was present in the initial time series plot. "
   ],
   "cell_type": "markdown",
   "metadata": {}
  },
  {
   "source": [
    "<img src=\"img/dc1.png\" width=\"300\"/>"
   ],
   "cell_type": "markdown",
   "metadata": {}
  },
  {
   "source": [
    "<div align=\"center\">\n",
    "    Figure 2 - Decomposition Plot showing data, seasonal, trend and the error\n",
    "</div>"
   ],
   "cell_type": "markdown",
   "metadata": {}
  },
  {
   "source": [
    "The trend line is confirmed as upward trending.\n",
    "The seasonal portion shows that the regularly occurring spike in sales each year changes in magnitude, ever so slightly. Having seasonality suggests that any ARIMA models used for analysis will need seasonal differencing. \n",
    "The change in magnitude suggests that any ETS models will use a multiplicative method in the seasonal component.\n",
    "The error plot of the series presents a fluctuations between large and smaller errors as the time series goes on. Since the fluctuations are not consistent in magnitude then we will apply error in\n",
    "a multiplicative manner for any ETS models."
   ],
   "cell_type": "markdown",
   "metadata": {}
  },
  {
   "source": [
    "## Build your Models\n",
    "\n",
    "#### 1. What are the model terms for ETS? Explain why you chose those terms. Describe the in-sample errors. Use at least RMSE and MASE when examining results\n",
    "\n",
    "From the decomposition plot the necessary information to define the terms for the ETS model are obtained.\n",
    "The trend line exhibits linear behavior which results in the need for an additive method.\n",
    "The seasonality changes in magnitude each year so a multiplicative method is necessary.\n",
    "The error changes in magnitude as the series goes along so a multiplicative method will be used.\n",
    "This leaves an **ETS(M, A, M)** model.\n",
    "\n",
    "**Error Terms:**\n",
    "\n",
    "Two key components to look at are the RMSE, which shows the in-sample standard deviation, and the MASE which can be used to compare forecasts of different models. One can see that the variance is about 33000 units around the mean.\n",
    "The MASE shows a fairly strong forecast at 0.36 with its value falling well below the generic 1.00, the commonly accepted MASE threshold for model accuracy.\n",
    "\n",
    "#### 2. What are the model terms for ARIMA? Explain why you chose those terms. Graph the Auto-Correlation Function (ACF) and Partial Autocorrelation Function Plots (PACF) for the time series and seasonal component and use these graphs to justify choosing your model terms. Describe the in-sample errors. Use at least RMSE and MASE when examining results. Regraph ACF and PACF for both the Time Series and Seasonal Difference and include these graphs in your answer and show that the graphs have no autocorrelated lag anymore.\n",
    "\n",
    "Since there are seasonal components found in the time series, an ARIMA(p, d, q)(P, D,Q)S model for forecasting.\n",
    "\n",
    "**Time Series ACF and PACF:**\n",
    "\n",
    "The ACF presents slowly decaying serial correlations towards 0 with increases at the seasonal lags. Since serial correlation is high it is neccessary to seasonally difference the series."
   ],
   "cell_type": "markdown",
   "metadata": {}
  },
  {
   "source": [
    "<img src=\"img/ts2.png\" width=\"500\"/>"
   ],
   "cell_type": "markdown",
   "metadata": {}
  },
  {
   "source": [
    "<div align=\"center\">\n",
    "    Figure 3 - Time Series ACF and PACF\n",
    "</div>"
   ],
   "cell_type": "markdown",
   "metadata": {}
  },
  {
   "source": [
    "**Seasonal Difference ACF and PACF:**\n",
    "\n",
    "The seasonal difference presents similar ACF and PACF results as the initial plots without differencing, only slightly less correlated. In order to remove correlation it is neccessary to difference further."
   ],
   "cell_type": "markdown",
   "metadata": {}
  },
  {
   "source": [
    "<img src=\"img/sd1.png\" width=\"500\"/>"
   ],
   "cell_type": "markdown",
   "metadata": {}
  },
  {
   "source": [
    "<div align=\"center\">\n",
    "    Figure 4 - Seasonal Difference ACF and PACF\n",
    "</div>"
   ],
   "cell_type": "markdown",
   "metadata": {}
  },
  {
   "source": [
    "**Seasonal First Difference:**\n",
    "\n",
    "The seasonal first difference of the series has removed most of the significant lags from the ACF and PACF so there is no need for further differencing. The remaining correlation can be accounted for using autoregressive and moving average terms and the differencing terms will be d(1) and D(1).\n",
    "\n",
    "The ACF plot shows a strong negative correlation at lag 1 which is confirmed in the PACF. This suggests an MA(1) model since there is only 1 significant lag. The seasonal lags (lag 12, 24,etc.) in the ACF and PACF do not have any significant correlation so there will be no need for seasonal autoregressive or moving average terms."
   ],
   "cell_type": "markdown",
   "metadata": {}
  },
  {
   "source": [
    "<img src=\"img/sd2.png\" width=\"500\"/>"
   ],
   "cell_type": "markdown",
   "metadata": {}
  },
  {
   "source": [
    "<div align=\"center\">\n",
    "    Figure 5 - Seasonal First Difference ACF and PACF\n",
    "</div>"
   ],
   "cell_type": "markdown",
   "metadata": {}
  },
  {
   "source": [
    "Therefore the model terms for the ARIMA model are **ARIMA(0, 1, 1)(0, 1, 0)[12]**\n",
    "\n",
    "**Error Terms:**\n",
    "\n",
    "The ACF and PACF results for the ARIMA(0, 1, 1)(0, 1, 0)[12] model shows no significantly correlated lags suggesting no need for adding additional AR() or MA() terms."
   ],
   "cell_type": "markdown",
   "metadata": {}
  },
  {
   "source": [
    "<img src=\"img/ac1.png\" width=\"300\"/>"
   ],
   "cell_type": "markdown",
   "metadata": {}
  },
  {
   "source": [
    "<div align=\"center\">\n",
    "    Figure 6 - Sufficient ARIMA model\n",
    "</div>"
   ],
   "cell_type": "markdown",
   "metadata": {}
  },
  {
   "source": [
    "Two key components to look at are the RMSE, which shows the in-sample standard deviation, and the MASE which can be used to compare forecasts of different models. The data shows that the variance is about 37000 units around the mean.\n",
    "The MASE shows a fairly strong forecast at 0.36 with its value falling well below the generic 1.00, the commonly accepted MASE threshold for model accuracy."
   ],
   "cell_type": "markdown",
   "metadata": {}
  },
  {
   "source": [
    "## Forecast\n",
    "\n",
    "#### 1. Which model did you choose? Justify your answer by showing: in-sample error measurements and forecast error measurements against the holdout sample.\n",
    "\n",
    "When comparing the two in-sample error measures used, the RMSE and MASE, they show very similar results. The ETS model does have a narrower standard deviation but only by a few thousand units.\n",
    "\n",
    "Further investigation shows that the MAPE and ME of the ARIMA model are lower than the ETS. This suggests that, on average, the ARIMA model misses its forecast by a lesser amount.\n",
    "\n",
    "When looking at the model’s ability to predict the holdout sample, one can see that the ARIMA model has better predictive qualities in just about every metric.\n",
    "\n",
    "Therefore, the ARIMA model is used to produce the forecast."
   ],
   "cell_type": "markdown",
   "metadata": {}
  },
  {
   "source": [
    "<img src=\"img/am1.png\" width=\"300\"/>"
   ],
   "cell_type": "markdown",
   "metadata": {}
  },
  {
   "source": [
    "<div align=\"center\">\n",
    "    Figure 7 - Accuracy Measures to Compare the ETS vs. the ARIMA model\n",
    "</div>"
   ],
   "cell_type": "markdown",
   "metadata": {}
  },
  {
   "source": [
    "#### 2. What is the forecast for the next four periods? Graph the results using 95% and 80% confidence intervals.\n",
    "\n",
    "Forecast results using 95% and 80% confidence intervals:"
   ],
   "cell_type": "markdown",
   "metadata": {}
  },
  {
   "source": [
    "<img src=\"img/fc1.png\" width=\"500\"/>"
   ],
   "cell_type": "markdown",
   "metadata": {}
  },
  {
   "source": [
    "<div align=\"center\">\n",
    "    Figure 8 - Forecast Results\n",
    "</div>"
   ],
   "cell_type": "markdown",
   "metadata": {}
  },
  {
   "source": [
    "<img src=\"img/fc2.png\" width=\"500\"/>"
   ],
   "cell_type": "markdown",
   "metadata": {}
  },
  {
   "source": [
    "<div align=\"center\">\n",
    "    Figure 9 - Forecast Chart\n",
    "</div>"
   ],
   "cell_type": "markdown",
   "metadata": {}
  }
 ],
 "metadata": {
  "kernelspec": {
   "display_name": "Python 3",
   "language": "python",
   "name": "python3"
  },
  "language_info": {
   "codemirror_mode": {
    "name": "ipython",
    "version": 3
   },
   "file_extension": ".py",
   "mimetype": "text/x-python",
   "name": "python",
   "nbconvert_exporter": "python",
   "pygments_lexer": "ipython3",
   "version": "3.6.2"
  }
 },
 "nbformat": 4,
 "nbformat_minor": 2
}