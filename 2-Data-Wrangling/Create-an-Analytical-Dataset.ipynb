{
 "cells": [
  {
   "source": [
    "# Project 2: Create an Analytical Dataset\n",
    "\n",
    "## The Business Problem\n",
    "\n",
    "Pawdacity is a leading pet store chain in Wyoming with 13 stores throughout the state. This year, Pawdacity would like to expand and open a 14th store. Your manager has asked you to perform an analysis to recommend the city for Pawdacity’s newest store, based on predicted yearly sales.\n",
    "\n",
    "Your first step in predicting yearly sales is to first format and blend together data from different datasets and deal with outliers.\n",
    "\n",
    "Your manager has given you the following information to work with:\n",
    "\n",
    "- The monthly sales data for all of the Pawdacity stores for the year 2010.\n",
    "- NAICS data on the most current sales of all competitor stores where total sales is equal to 12 months of sales.\n",
    "- A partially parsed data file that can be used for population numbers.\n",
    "- Demographic data (Households with individuals under 18, Land Area, Population Density, and Total Families) for each city and county in the state of Wyoming. For people who are unfamiliar with the US city system, a state contains counties and counties contains one or more cities.\n"
   ],
   "cell_type": "markdown",
   "metadata": {}
  },
  {
   "cell_type": "markdown",
   "metadata": {},
   "source": [
    "## Business and Data Understanding\n",
    "\n",
    "#### 1. What decisions needs to be made?\n",
    "\n",
    "The decision needs to be made on the next location (city) where Pawdacity should open its next store."
   ]
  },
  {
   "cell_type": "markdown",
   "metadata": {},
   "source": [
    "#### 2. What data is needed to inform those decisions?\n",
    "\n",
    "The data which is needed to make the decision is the city, 2010 census population, the total sales, households under 18, land area, population density and total families. The data is available from different sources and must be cleaned and combined to create the training set."
   ]
  },
  {
   "cell_type": "markdown",
   "metadata": {},
   "source": [
    "## Building the Training Set\n",
    "\n",
    "*Build your training set given the data provided to you. Your column sums of your dataset should match the sums in the table below.*"
   ]
  },
  {
   "cell_type": "markdown",
   "metadata": {},
   "source": [
    "<img src=\"img/1.png\" width=\"500\">"
   ]
  },
  {
   "cell_type": "markdown",
   "metadata": {},
   "source": [
    "<div align=\"center\">\n",
    "  Figure 1 - Alteryx Workflow\n",
    "</div>"
   ]
  },
  {
   "cell_type": "markdown",
   "metadata": {},
   "source": [
    "\n",
    "| Column | Sum | Average  |\n",
    "|---|---|---|\n",
    "| Census Population | 213,862 | 19,442 |\n",
    "| Total Pawdacity Sales | 3,773,304 | 343,027.64 |\n",
    "| Households with Under 18 | 34,064 | 3,096.73 |\n",
    "| Land Area | 33,071 | 3,006.49 |\n",
    "| Population Density | 63 | 5.71 |\n",
    "| Total Families | 62,653 | 5,695.71 |"
   ]
  },
  {
   "cell_type": "markdown",
   "metadata": {},
   "source": [
    "## Dealing with Outliers\n",
    "\n",
    "#### Are there any cities that are outliers in the training set? Which outlier have you chosen to remove or impute? Because this dataset is a small data set (11 cities), you should only remove or impute one outlier. Please explain your reasoning.\n",
    "\n",
    "To check for outliers, various scatterplots were created. Additionally, the IQR method for each attribute was applied in MS Excel:\n",
    "\n",
    "- Census Population: There is Cheyenne city as the only outlier in this data.\n",
    "- Total Sales: There seem to be two outliers, Cheyenne, and Gillette.\n",
    "- Households under 18: This variable does not seem to have any outliers.\n",
    "- Land Area: Here, Rock Spring could be an outlier, but not a big one.\n",
    "- Pop. Density: Here, only Cheyenne is an outlier.\n",
    "- Total Families: Also, Cheyenne is an outlier for the total families.\n",
    "\n",
    "It is suggested to remove **Cheyenne** from the training set data, because it is an outlier in many columns. The data seems to be correct, so this is not a cleaning/combining error or a bad input type. The city is small but has a high population density which is not present in any other of the remaining 10 cities."
   ]
  }
 ],
 "metadata": {
  "kernelspec": {
   "display_name": "Python 3",
   "language": "python",
   "name": "python3"
  },
  "language_info": {
   "codemirror_mode": {
    "name": "ipython",
    "version": 3
   },
   "file_extension": ".py",
   "mimetype": "text/x-python",
   "name": "python",
   "nbconvert_exporter": "python",
   "pygments_lexer": "ipython3",
   "version": "3.7.3"
  }
 },
 "nbformat": 4,
 "nbformat_minor": 2
}