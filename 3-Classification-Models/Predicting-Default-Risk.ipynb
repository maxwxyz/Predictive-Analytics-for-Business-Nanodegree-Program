{
 "cells": [
  {
   "source": [
    "# Project 3: Predicting Default Risk\n",
    "\n",
    "## The Business Problem\n",
    "\n",
    "You work for a small bank and are responsible for determining if customers are creditworthy to give a loan to. Your team typically gets 200 loan applications per week and approves them by hand.\n",
    "\n",
    "Due to a financial scandal that hit a competitive bank last week, you suddenly have an influx of new people applying for loans for your bank instead of the other bank in your city. All of a sudden you have nearly 500 loan applications to process this week!\n",
    "\n",
    "Your manager sees this new influx as a great opportunity and wants you to figure out how to process all of these loan applications within one week.\n",
    "\n",
    "Fortunately for you, you just completed a course in classification modeling and know how to systematically evaluate the creditworthiness of these new loan applicants.\n",
    "\n",
    "For this project, you will analyze the business problem using the Problem Solving Framework and provide a list of creditworthy customers to your manager in the next two days.\n",
    "\n",
    "You have the following information to work with:\n",
    "\n",
    "- Data on all past applications\n",
    "- The list of customers that need to be processed in the next few days"
   ],
   "cell_type": "markdown",
   "metadata": {}
  },
  {
   "cell_type": "markdown",
   "metadata": {},
   "source": [
    "## Business and Data Understanding\n",
    "\n",
    "### Key Decisions:\n",
    "\n",
    "Answer these questions\n",
    "\n",
    "#### 1. What decisions needs to be made?\n",
    "\n",
    "The decision whether a new customer is creditworthy or not."
   ]
  },
  {
   "cell_type": "markdown",
   "metadata": {},
   "source": [
    "#### 2. What data is needed to inform those decisions?\n",
    "\n",
    "Present data from existing customers (if they are creditworthy or not) is needed to predict the creditworthyness of new customers. Additional data is needed on which the model can be build on, e.g. personal date (age, purpose) and bank data (savings stock amount, credit amount, duration). This data needs to be present in the training and the future customer dataset.\n",
    "\n",
    "#### 3. What kind of model (Continuous, Binary, Non-Binary, Time-Series) do we need to use to help make these decisions?\n",
    "\n",
    "The problem needs a binary model, because the creditworthiness is a categorial value and can either be creditworthy or not  creditworthy. As there are only two possible variants, this is a binary model."
   ]
  },
  {
   "cell_type": "markdown",
   "metadata": {},
   "source": [
    "## Building the Training Set\n",
    "\n",
    "#### 1. In your cleanup process, which fields did you remove or impute? Please justify why you removed or imputed these fields. Visualizations are encouraged.\n",
    "\n",
    "First, the data was explored to clean the data and find relationships. Therefore, scatterplots with two variables provide sufficient insights. The following graph shows that there is no linear relation between the average sales and the ZIP code, so we do not need the incorporate this variable into the model. The same is true for the years as customer. There seems a linear relationship between the avg.number of products and the price. The customer segment was also added to the model as it is present in both, the new customer and past customer data. An Alteryx analysis showed, that for only the chosen variables, the p-value was smaller than 0.05. This indicates that there is a linear relationship between these predictor variables and the target variable."
   ]
  },
  {
   "cell_type": "markdown",
   "metadata": {},
   "source": [
    "<img src=\"img/1.png\" width=\"500\">"
   ]
  },
  {
   "cell_type": "markdown",
   "metadata": {},
   "source": [
    "<div align=\"center\">\n",
    "  Figure 1 - Field Analysis of the Training Set \n",
    "</div>"
   ]
  },
  {
   "source": [
    "The **duration in current address** field was *removed* because it had 69 % missing entries and seemed not important for the model. The **age** variable had 2 % missing values but has a high-variability, therefore, the age for the missing entries was *imputed with the median age*. All other fields had clean data.\n",
    "Because of *low-variability* the **gurantors**, **concurrent-credits**, **occupation**, **number-of-dependents**, **telephone**, and **foreign-worker** fields were removed from the dataset for the model.\n",
    "\n",
    "Using a correlation matrix, it was verified that there is no high correlations between two variables, which is what is needed for a good model."
   ],
   "cell_type": "markdown",
   "metadata": {}
  },
  {
   "cell_type": "markdown",
   "metadata": {},
   "source": [
    "<img src=\"img/2.png\" width=\"500\">"
   ]
  },
  {
   "cell_type": "markdown",
   "metadata": {},
   "source": [
    "<div align=\"center\">\n",
    "  Figure 2 - Correlation Matrix\n",
    "</div>"
   ]
  },
  {
   "source": [
    "## Train your Classification Models\n",
    "\n",
    "#### Answer these questions for each model you created:\n",
    "- Which predictor variables are significant or the most important? Please show the p-values or variable importance charts for all of your predictor variables.\n",
    "- Validate your model against the Validation set. What was the overall percent accuracy? Show the confusion matrix. Are there any bias seen in the model’s predictions?\n"
   ],
   "cell_type": "markdown",
   "metadata": {}
  },
  {
   "cell_type": "markdown",
   "metadata": {},
   "source": [
    "<img src=\"img/3.png\" width=\"500\">"
   ]
  },
  {
   "cell_type": "markdown",
   "metadata": {},
   "source": [
    "<div align=\"center\">\n",
    "  Figure 3 - Training Setup in Alteryx \n",
    "</div>"
   ]
  },
  {
   "cell_type": "markdown",
   "metadata": {},
   "source": [
    "#### Logistic Regression (Stepwise):"
   ]
  },
  {
   "cell_type": "markdown",
   "metadata": {},
   "source": [
    "<img src=\"img/4.png\" width=\"500\">"
   ]
  },
  {
   "source": [
    "<div align=\"center\">\n",
    "  Figure 4 - Stepwise Logistic Regression Report\n",
    "</div>"
   ],
   "cell_type": "markdown",
   "metadata": {}
  },
  {
   "source": [
    "The results show that for the logistig regression model, 6 variables are significant: **account balance**, **payment status of prev. credit**, **purpose**, **credit amount**, **length of current employment** and **installment per cent**.\n",
    "\n",
    "Tested against the 30 % set results the following comparison report:"
   ],
   "cell_type": "markdown",
   "metadata": {}
  },
  {
   "source": [
    "<img src=\"img/5.png\" width=\"500\">"
   ],
   "cell_type": "markdown",
   "metadata": {}
  },
  {
   "source": [
    "<div align=\"center\">\n",
    "Figure 5 - Comparison Report for the Logistic Regression Model\n",
    "</div>\n",
    "\n",
    "\n",
    "This model has an *accuracy of 76 %*. It seems to have a slight bias to the creditworthy prediction."
   ],
   "cell_type": "markdown",
   "metadata": {}
  },
  {
   "cell_type": "markdown",
   "metadata": {},
   "source": [
    "#### Decision Tree:"
   ]
  },
  {
   "source": [
    "<img src=\"img/6.png\" width=\"500\">"
   ],
   "cell_type": "markdown",
   "metadata": {}
  },
  {
   "source": [
    "<div align=\"center\">\n",
    "Figure 6 - Decision Tree Model Report\n",
    "</div>\n",
    "\n",
    "The root node error is 27 %, which is high. The decision tree outputs the following variable importance. **Account balance**, **duration** and **credit amount** are the most relevant ones.\n"
   ],
   "cell_type": "markdown",
   "metadata": {}
  },
  {
   "source": [
    "<img src=\"img/7.png\" width=\"500\">"
   ],
   "cell_type": "markdown",
   "metadata": {}
  },
  {
   "source": [
    "<div align=\"center\">\n",
    "Figure 7 - Variable Importance and Model Comparison Report for the Decision Tree Model\n",
    "</div>\n",
    "\n",
    "The confusion matrix shows also a bias towards creditworthy. Overall *accuracy is 67 %*."
   ],
   "cell_type": "markdown",
   "metadata": {}
  },
  {
   "source": [
    "#### Forest Model:"
   ],
   "cell_type": "markdown",
   "metadata": {}
  },
  {
   "source": [
    "<img src=\"img/8.png\" width=\"500\">"
   ],
   "cell_type": "markdown",
   "metadata": {}
  },
  {
   "source": [
    "<div align=\"center\">\n",
    "Figure 8 - Forest Model Report with Percentage Error for Different Numbers of Trees and Variable Importance Plot\n",
    "</div>\n",
    "\n",
    "The percentage error tree curve seems to flatten around 200 trees, therefore, the number of trees could be reduced in the following model. The forest model chose the **credit amount** to be the most important variable, followed by **age**, **duration** and **account balance**.\n",
    "\n",
    "Testing the model against the 30 % set results in an *accuracy of 79 %*, so far the highest."
   ],
   "cell_type": "markdown",
   "metadata": {}
  },
  {
   "source": [
    "<img src=\"img/9.png\" width=\"500\">"
   ],
   "cell_type": "markdown",
   "metadata": {}
  },
  {
   "source": [
    "<div align=\"center\">\n",
    "Figure 9 - Comparison Report for the Forest Model\n",
    "</div>\n",
    "\n",
    "The report shows that this model has a *low bias*."
   ],
   "cell_type": "markdown",
   "metadata": {}
  },
  {
   "source": [
    "#### Boosted Model:\n",
    "\n",
    "The boosted model shows the following report. This model chose **account balance** and **credit amount** to be by far the most important variables. Followed by **duration of credit**, **payment status of prev. credit** and **purpose**."
   ],
   "cell_type": "markdown",
   "metadata": {}
  },
  {
   "source": [
    "<img src=\"img/10.png\" width=\"500\">"
   ],
   "cell_type": "markdown",
   "metadata": {}
  },
  {
   "source": [
    "<div align=\"center\">\n",
    "Figure 10 - Results of the Boosted Model with Variable Importance Plot\n",
    "</div>\n",
    "\n",
    "The comparison report shows an overall *accuracy of 79 %*. The differences between the accuracy of both outcomes is also low, therefore, this model has also a *low bias*."
   ],
   "cell_type": "markdown",
   "metadata": {}
  },
  {
   "source": [
    "<img src=\"img/11.png\" width=\"500\">"
   ],
   "cell_type": "markdown",
   "metadata": {}
  },
  {
   "source": [
    "<div align=\"center\">\n",
    "Figure 11 - Model Comparison Report for the Boosted Model\n",
    "</div>"
   ],
   "cell_type": "markdown",
   "metadata": {}
  },
  {
   "cell_type": "markdown",
   "metadata": {},
   "source": [
    "## Writeup\n",
    "\n",
    "Decide on the best model and score your new customers. For reviewing consistency, if *Score_Creditworthy* is greater than *Score_NonCreditworthy*, the person should be labeled as “Creditworthy”\n",
    "\n",
    "####Answer these questions:\n",
    "\n",
    "- Which model did you choose to use? Please justify your decision using all of the following techniques. Please only use these techniques to justify your decision:\n",
    "    - Overall Accuracy against your Validation set\n",
    "    - Accuracies within “Creditworthy” and “Non-Creditworthy” segments\n",
    "    - ROC graph\n",
    "    - Bias in the Confusion Matrices\n",
    "\n",
    "The overall comparison report for all shows the following results:"
   ]
  },
  {
   "source": [
    "<img src=\"img/12.png\" width=\"500\">"
   ],
   "cell_type": "markdown",
   "metadata": {}
  },
  {
   "source": [
    "<div align=\"center\">\n",
    "Figure 12 - Model Comparison Report for all Models\n",
    "</div>\n",
    "\n",
    "The most accurate models in overall accuracy are the **forest model** and the **boosted model**. As seen in the above results, these are also the only models without a high bias, because they are the only ones with a low difference between the individual accuracies when tested against the 30 % set.\n",
    "\n",
    "The following ROC graph shows the comparison of all four models."
   ],
   "cell_type": "markdown",
   "metadata": {}
  },
  {
   "source": [
    "<img src=\"img/13.png\" width=\"300\">"
   ],
   "cell_type": "markdown",
   "metadata": {}
  },
  {
   "source": [
    "<div align=\"center\">\n",
    "Figure 13 - ROC Curve for all Models\n",
    "</div>\n",
    "\n",
    "Although the high accuracy and low bias is present in the forest and boosted model, the **forest model** was chosen because it is the first to reaches the highest point in the ROC curve and is slightly more unbiased.\n",
    "\n",
    "\n",
    "#### - How many individuals are creditworthy?\n",
    "\n",
    "After choosing the forest model to predict the creditworthyness of the new customers, the Alteryx workflow was adjusted by importing the new data, run a score with the forest model against it and then clean up the data to get an exact outcome (0 or 1) whether the person is creditworthy or not.\n",
    "\n",
    "The result is that **408 individuals** of the new customers are creditworthy!"
   ],
   "cell_type": "markdown",
   "metadata": {}
  },
  {
   "source": [
    "<img src=\"img/14.png\" width=\"500\">"
   ],
   "cell_type": "markdown",
   "metadata": {}
  },
  {
   "source": [
    "<div align=\"center\">\n",
    "Figure 14 - Alteryx Workflow for Scoring the Selected Model\n",
    "</div>"
   ],
   "cell_type": "markdown",
   "metadata": {}
  }
 ],
 "metadata": {
  "kernelspec": {
   "display_name": "Python 3",
   "language": "python",
   "name": "python3"
  },
  "language_info": {
   "codemirror_mode": {
    "name": "ipython",
    "version": 3
   },
   "file_extension": ".py",
   "mimetype": "text/x-python",
   "name": "python",
   "nbconvert_exporter": "python",
   "pygments_lexer": "ipython3",
   "version": "3.7.3"
  }
 },
 "nbformat": 4,
 "nbformat_minor": 2
}