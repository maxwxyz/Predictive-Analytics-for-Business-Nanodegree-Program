{
 "cells": [
  {
   "source": [
    "# Project 6: Predictive Analytics Capstone\n",
    "\n",
    "## Task 1: Store Format for Existing Stores\n",
    "\n",
    "Your company currently has 85 grocery stores and is planning to open 10 new stores at the beginning of the year. Currently, all stores use the same store format for selling their products. Up until now, the company has treated all stores similarly, shipping the same amount of product to each store. This is beginning to cause problems as stores are suffering from product surpluses in some product categories and shortages in others. You've been asked to provide analytical support to make decisions about store formats and inventory planning.\n",
    "\n",
    "To remedy the product surplus and shortages, the company wants to introduce different store formats. Each store format will have a different product selection in order to better match local demand. The actual building sizes will not change, just the product selection and internal layouts. The terms \"formats\" and \"segments\" will be used interchangeably throughout this project. You’ve been asked to:\n",
    "\n",
    "Determine the optimal number of store formats based on sales data.\n",
    "- Sum sales data by StoreID and Year\n",
    "    - Use percentage sales per category per store for clustering (category sales as a percentage of total store sales).\n",
    "    - Use only 2015 sales data.\n",
    "    - Use a K-means clustering model.\n",
    "- Segment the 85 current stores into the different store formats.\n",
    "- Use the StoreSalesData.csv and StoreInformation.csv files.\n",
    "\n",
    "## Determine Store Formats for Existing Stores\n",
    "\n",
    "#### 1. What is the optimal number of store formats? How did you arrive at that number?"
   ],
   "cell_type": "markdown",
   "metadata": {}
  },
  {
   "cell_type": "markdown",
   "metadata": {},
   "source": [
    "<img src=\"img/1.png\" width=\"500\">"
   ]
  },
  {
   "cell_type": "markdown",
   "metadata": {},
   "source": [
    "<div align=\"center\">\n",
    "  Figure 1 - Alteryx Workflow for Cluster Determination\n",
    "</div>\n",
    "\n",
    "After running a K-means analysis the Adjusted Rand Indices and the Calinski-Harabasz Indices were used to determine the ideal number of clusters. The highest mean indicates the best number of clusters."
   ]
  },
  {
   "source": [
    "<img src=\"img/2.png\" width=\"300\">"
   ],
   "cell_type": "markdown",
   "metadata": {}
  },
  {
   "source": [
    "<div align=\"center\">\n",
    "  Figure 2 - Adjusted Rand Indices and Calinski-Harabasz Indices\n",
    "</div>\n",
    "\n",
    "According to the results, **3 clusters** seem to be the optimum.\n",
    "\n",
    "#### 2. How many stores fall into each store format?\n",
    "\n",
    "The outputs are:\n",
    "\n",
    "Cluster 1: **23 stores**\n",
    "\n",
    "Cluster 2: **29 stores**\n",
    "\n",
    "Cluster 3: **33 stores**\n",
    "\n",
    "#### 3. Based on the results of the clustering model, what is one way that the clusters differ from one another?\n",
    "\n"
   ],
   "cell_type": "markdown",
   "metadata": {}
  },
  {
   "source": [
    "<img src=\"img/3.png\" width=\"500\">"
   ],
   "cell_type": "markdown",
   "metadata": {}
  },
  {
   "source": [
    "<div align=\"center\">\n",
    "  Figure 3 - Variable Correlation between Clusters\n",
    "</div>\n",
    "\n",
    "In the above report the differences between the variables and the different clusters are shown. For example, the “Bakery” variable for cluster 1 is negative vs. a positive value for cluster 2 and 3. This does not implicate that they sell more products in this category, but it highlights that there is a difference between the clusters.\n",
    "\n",
    "#### 4. Please provide a Tableau visualization (saved as a Tableau Public file) that shows the location of the stores, uses color to show cluster, and size to show total sales.\n"
   ],
   "cell_type": "markdown",
   "metadata": {}
  },
  {
   "source": [
    "<img src=\"img/4.png\" width=\"800\">"
   ],
   "cell_type": "markdown",
   "metadata": {}
  },
  {
   "source": [
    "<div align=\"center\">\n",
    "  Figure 4 - Tableau Visualization of Stores\n",
    "</div>\n",
    "\n",
    "[Tableau Public File](https://public.tableau.com/views/PredictiveAnalyticsforBusinessUdacityNanodegree-P8/stores_map?:language=de&display_count=y&publish=yes&:origin=viz_share_link)"
   ],
   "cell_type": "markdown",
   "metadata": {}
  },
  {
   "source": [
    "## Task 2: Store Format for New Stores\n",
    "\n",
    "The grocery store chain has 10 new stores opening up at the beginning of the year. The company wants to determine which store format each of the new stores should have. However, we don’t have sales data for these new stores yet, so we’ll have to determine the format using each of the new store’s demographic data.\n",
    "\n",
    "You’ve been asked to:\n",
    "\n",
    "- Develop a model that predicts which segment a store falls into based on the demographic and socioeconomic characteristics of the population that resides in the area around each new store.\n",
    "- Use a 20% validation sample with Random Seed = 3 when creating samples with which to compare the accuracy of the models. Make sure to compare a decision tree, forest, and boosted model.\n",
    "- Use the model to predict the best store format for each of the 10 new stores.\n",
    "- Use the StoreDemographicData.csv file, which contains the information for the area around each store.\n",
    "\n",
    "## Determine the Store Format for New Stores\n",
    "\n",
    "#### 1. What methodology did you use to predict the best store format for the new stores? Why did you choose that methodology? (Remember to Use a 20% validation sample with Random Seed = 3 to test differences in models.)\n",
    "\n",
    "Three different models were created and the accuracy of those models compared. A Decision Tree, a Forest Model and a Boosted Model. The accuracy of the boosted model was the highest, therefore, the boosted model was chosen to predict the segments of the new\n",
    "stores. A comparison report is shown below."
   ],
   "cell_type": "markdown",
   "metadata": {}
  },
  {
   "source": [
    "<img src=\"img/5.png\" width=\"300\">"
   ],
   "cell_type": "markdown",
   "metadata": {}
  },
  {
   "source": [
    "<div align=\"center\">\n",
    "  Figure 5 - Model Comparison Report\n",
    "</div>\n",
    "\n",
    "#### 2. What format do each of the 10 new stores fall into? Please fill in the table below.\n",
    "\n",
    "| **Store Number** | **Segment** |\n",
    "|--------------|---------|\n",
    "| S0086        | 3       |\n",
    "| S0087        | 2       |\n",
    "| S0088        | 1       |\n",
    "| S0089        | 2       |\n",
    "| S0090        | 2       |\n",
    "| S0091        | 1       |\n",
    "| S0092        | 2       |\n",
    "| S0093        | 1       |\n",
    "| S0094        | 2       |\n",
    "| S0095        | 2       |"
   ],
   "cell_type": "markdown",
   "metadata": {}
  },
  {
   "source": [
    "## Task 3: Forecasting\n",
    "\n",
    "Fresh produce has a short life span, and due to increasing costs, the company wants to have an accurate monthly sales forecast.\n",
    "\n",
    "You’ve been asked to prepare a monthly forecast for produce sales for the full year of 2016 for both existing and new stores. To do so, follow the steps below.\n",
    "\n",
    "Note: Use a 6 month holdout sample for the TS Compare tool (this is because we do not have that much data so using a 12 month holdout would remove too much of the data)\n",
    "\n",
    "- To forecast produce sales for existing stores you should aggregate produce sales across all stores by month and create a forecast.\n",
    "- To forecast produce sales for new stores:\n",
    "    - Forecast produce sales (not total sales) for the average store (rather than the aggregate) for each segment.\n",
    "    - Multiply the average store produce sales forecast by the number of new stores in that segment.\n",
    "    - Sum the new stores produce sales forecasts for each of the segments to get the forecast for all new stores.\n",
    "- Sum the forecasts of the existing and new stores together for the total produce sales forecast.\n",
    "\n",
    "## Predicting Produce Sales\n",
    "#### 1. What type of ETS or ARIMA model did you use for each forecast? Use ETS(a,m,n) or ARIMA(ar, i, ma) notation. How did you come to that decision?\n",
    "\n",
    "The goal of this task is to compare which model works best with the data (check against holdout sample), ARIMA or ETS.\n",
    "First, the time series was analyzed if the data has any trend, error or seasonal patterns.\n",
    "The following graph shows the time series plot and the decomposition plot."
   ],
   "cell_type": "markdown",
   "metadata": {}
  },
  {
   "source": [
    "<img src=\"img/6.png\" width=\"500\">"
   ],
   "cell_type": "markdown",
   "metadata": {}
  },
  {
   "source": [
    "<div align=\"center\">\n",
    "  Figure 6 - Time Series Plot\n",
    "</div>\n",
    "\n",
    "There is no trending visible and nothing should be applied in the ETS model. \n",
    "The seasonality should pe applied multiplicatively as this is slightly increasing over time. The error should also be applied by multiplication because there is no linearity. \n",
    "\n",
    "Therefore, for ETS an `ETS(MNM)` with no dampening is chosen.\n",
    "\n",
    "For the ARIMA model, the time series needs to be differentiated for seasonal difference."
   ],
   "cell_type": "markdown",
   "metadata": {}
  },
  {
   "source": [
    "<img src=\"img/7.png\" width=\"500\">"
   ],
   "cell_type": "markdown",
   "metadata": {}
  },
  {
   "source": [
    "<div align=\"center\">\n",
    "  Figure 7 - Time Series Difference for Seasonality\n",
    "</div>\n",
    "\n",
    "It is necessary to calculate the first seasonal difference to correct the data as seen below. The data has lag-2."
   ],
   "cell_type": "markdown",
   "metadata": {}
  },
  {
   "source": [
    "<img src=\"img/8.png\" width=\"500\">"
   ],
   "cell_type": "markdown",
   "metadata": {}
  },
  {
   "source": [
    "<div align=\"center\">\n",
    "  Figure 8 - First Seasonal Difference\n",
    "</div>\n",
    "\n",
    "Based on the ACF and PACF plots, the ARIMA model `ARIMA(1,2,3)(0,1,0)`was chosen.\n",
    "\n",
    "Now both models can be tested against the holdout sample to choose the best model.\n",
    "\n",
    "The ETS accuracy is higher compared to the ARIMA model when tested against each other. \n",
    "\n",
    "The *RMSE* of 1,020,597 for ETS is lower than 1,429,296 (ARIMA).\n",
    "ETS model’s *MASE* is 0.45 compared to ARIMA model’s 0.53. \n",
    "The ETS also has a higher *AIC* of 1,283 compared to the *AIC* of the ARIMA model of 859.\n",
    "\n",
    "Therefore, the **ETS model** is chosen to make the forecast.\n",
    "\n",
    "#### 2. Please provide a table of your forecasts for existing and new stores. Also, provide visualization of your forecasts that includes historical data, existing stores forecasts, and new stores forecasts.\n",
    "\n",
    "The forecast is calculated with the chosen ETS model. Below is the table with the\n",
    "predicted sales:\n",
    "\n",
    "| **Month**  | **New Stores in $**| **Existing Stores in $** |\n",
    "|--------|-----------------|----------------------|\n",
    "| Jan-16 | 2,587,451       | 21,539,936           |\n",
    "| Feb-16 | 2,477,353       | 20,413,771           |\n",
    "| Mar-16 | 2,912,185       | 24,325,953           |\n",
    "| Apr-16 | 2,775,746       | 22,993,466           |\n",
    "| May-16 | 3,150,867       | 26,691,951           |\n",
    "| Jun-16 | 3,188,922       | 26,989,964           |\n",
    "| Jul-16 | 3,214,746       | 26,948,631           |\n",
    "| Aug-16 | 2,866,349       | 24,091,579           |\n",
    "| Sep-16 | 2,538,727       | 20,523,492           |\n",
    "| Okt-16 | 2,488,148       | 20,011,749           |\n",
    "| Nov-16 | 2,595,270       | 21,177,435           |\n",
    "| Dec-16 | 2,573,397       | 20,855,799           |\n",
    "\n",
    "The data can also be visualized in Tableau, plotting the added sales forecast over the\n",
    "one for the existing stores:"
   ],
   "cell_type": "markdown",
   "metadata": {}
  },
  {
   "source": [
    "<img src=\"img/9.png\" width=\"800\">"
   ],
   "cell_type": "markdown",
   "metadata": {}
  },
  {
   "source": [
    "<div align=\"center\">\n",
    "  Figure 9 - Tableau Visualization\n",
    "</div>"
   ],
   "cell_type": "markdown",
   "metadata": {}
  }
 ],
 "metadata": {
  "kernelspec": {
   "display_name": "Python 3",
   "language": "python",
   "name": "python3"
  },
  "language_info": {
   "codemirror_mode": {
    "name": "ipython",
    "version": 3
   },
   "file_extension": ".py",
   "mimetype": "text/x-python",
   "name": "python",
   "nbconvert_exporter": "python",
   "pygments_lexer": "ipython3",
   "version": "3.7.3"
  }
 },
 "nbformat": 4,
 "nbformat_minor": 2
}